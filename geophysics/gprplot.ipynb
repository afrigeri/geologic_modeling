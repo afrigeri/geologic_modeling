{
 "cells": [
  {
   "cell_type": "code",
   "execution_count": null,
   "metadata": {},
   "outputs": [],
   "source": [
    "# Plotting GPR data with python's segyio\n",
    "\n",
    "segy data is from [Cinti et al., 2015](https://doi.org/10.1093/gji/ggv404)\n"
   ]
  },
  {
   "cell_type": "code",
   "execution_count": 4,
   "metadata": {},
   "outputs": [],
   "source": [
    "import warnings\n",
    "warnings.filterwarnings('ignore')\n",
    "\n",
    "import numpy as np\n",
    "import matplotlib.pyplot as plt\n",
    "import segyio"
   ]
  },
  {
   "cell_type": "code",
   "execution_count": null,
   "metadata": {},
   "outputs": [],
   "source": [
    "# Segy data from Zond radar\n",
    "\n",
    "segyfile = 'data/CMTSUD5_99.SGY'\n",
    "\n",
    "f = segyio.open(\n",
    "                segyfile, \n",
    "                iline=segyio.tracefield.TraceField.SourceEnergyDirectionExponent, \n",
    "                xline=segyio.tracefield.TraceField.CDP\n",
    "               )\n",
    "\n",
    "il, xl, t = f.ilines, f.xlines, f.samples\n",
    "dt = t[1] - t[0]\n",
    "\n",
    "d = segyio.cube(f)\n",
    "nil, nxl, nt = d.shape\n",
    "\n",
    "plt.figure(figsize=(7, 9))\n",
    "\n",
    "plt.imshow(d[nil//2].T, cmap='seismic',extent=(xl[0], xl[-1], t[-1], t[0]))\n",
    "plt.title('GPR CMTSUD5_99')\n",
    "plt.colorbar()\n",
    "plt.axis('tight');"
   ]
  },
  {
   "cell_type": "code",
   "execution_count": null,
   "metadata": {},
   "outputs": [],
   "source": []
  }
 ],
 "metadata": {
  "kernelspec": {
   "display_name": "Python 3",
   "language": "python",
   "name": "python3"
  },
  "language_info": {
   "codemirror_mode": {
    "name": "ipython",
    "version": 3
   },
   "file_extension": ".py",
   "mimetype": "text/x-python",
   "name": "python",
   "nbconvert_exporter": "python",
   "pygments_lexer": "ipython3",
   "version": "3.8.6"
  }
 },
 "nbformat": 4,
 "nbformat_minor": 4
}
